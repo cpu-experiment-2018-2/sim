{
 "cells": [
  {
   "cell_type": "code",
   "execution_count": 5,
   "metadata": {},
   "outputs": [
    {
     "name": "stdout",
     "output_type": "stream",
     "text": [
      "b'h\\x00\\x00\\x01'\n",
      "b'\\x01\\x00\\x00h'\n"
     ]
    },
    {
     "data": {
      "text/plain": [
       "4"
      ]
     },
     "execution_count": 5,
     "metadata": {},
     "output_type": "execute_result"
    }
   ],
   "source": [
    "moji = '01101000000000000000000000000001'\n",
    "moji2 = '01100100000000000000000000000000'\n",
    "suuchi = int(moji,2)\n",
    "\n",
    "bytes_big = suuchi.to_bytes(4, byteorder='big')\n",
    "bytes_little = suuchi.to_bytes(4, byteorder='little')\n",
    "\n",
    "print(bytes_big)\n",
    "print(bytes_little)\n",
    "\n",
    "wf = open('write_test.bin', 'wb')\n",
    "wf.write(bytes_big)\n",
    "wf.write(bytes_little)"
   ]
  },
  {
   "cell_type": "code",
   "execution_count": null,
   "metadata": {
    "collapsed": true
   },
   "outputs": [],
   "source": []
  }
 ],
 "metadata": {
  "kernelspec": {
   "display_name": "Python 3",
   "language": "python",
   "name": "python3"
  },
  "language_info": {
   "codemirror_mode": {
    "name": "ipython",
    "version": 3
   },
   "file_extension": ".py",
   "mimetype": "text/x-python",
   "name": "python",
   "nbconvert_exporter": "python",
   "pygments_lexer": "ipython3",
   "version": "3.6.3"
  },
  "toc": {
   "base_numbering": 1,
   "nav_menu": {},
   "number_sections": true,
   "sideBar": true,
   "skip_h1_title": false,
   "title_cell": "Table of Contents",
   "title_sidebar": "Contents",
   "toc_cell": false,
   "toc_position": {},
   "toc_section_display": true,
   "toc_window_display": false
  }
 },
 "nbformat": 4,
 "nbformat_minor": 2
}
